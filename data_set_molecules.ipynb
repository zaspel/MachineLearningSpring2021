{
 "cells": [
  {
   "cell_type": "markdown",
   "metadata": {
    "cell_id": "00000-f78c4176-6d41-4d8e-b623-451927d02d17",
    "deepnote_cell_type": "markdown",
    "tags": []
   },
   "source": [
    "Load NumPy"
   ]
  },
  {
   "cell_type": "code",
   "execution_count": null,
   "metadata": {
    "cell_id": "00000-6f3e5e84-0f88-401a-ae30-4b75b905593a",
    "deepnote_cell_type": "code",
    "deepnote_to_be_reexecuted": false,
    "execution_millis": 1573,
    "execution_start": 1613311005701,
    "source_hash": "b74692eb",
    "tags": []
   },
   "outputs": [],
   "source": [
    "import numpy as np"
   ]
  },
  {
   "cell_type": "markdown",
   "metadata": {},
   "source": [
    "Get and load library to download a file"
   ]
  },
  {
   "cell_type": "code",
   "execution_count": null,
   "metadata": {
    "scrolled": true
   },
   "outputs": [],
   "source": [
    "!pip install wget\n",
    "import wget"
   ]
  },
  {
   "cell_type": "markdown",
   "metadata": {},
   "source": [
    "Get and load representation library"
   ]
  },
  {
   "cell_type": "code",
   "execution_count": null,
   "metadata": {
    "scrolled": true
   },
   "outputs": [],
   "source": [
    "!pip install scipy\n",
    "!pip install qmllib\n",
    "\n",
    "from qmllib.representations import generate_coulomb_matrix\n",
    "from qmllib.utils.xyz_format import read_xyz"
   ]
  },
  {
   "cell_type": "markdown",
   "metadata": {},
   "source": [
    "Load and inspect data"
   ]
  },
  {
   "cell_type": "code",
   "execution_count": null,
   "metadata": {},
   "outputs": [],
   "source": [
    "remote_url = 'https://ndownloader.figstatic.com/files/14345753'\n",
    "local_file = 'ct8b00832_si_001.zip'\n",
    "wget.download(remote_url, local_file)\n",
    "!unzip ct8b00832_si_001.zip"
   ]
  },
  {
   "cell_type": "code",
   "execution_count": null,
   "metadata": {},
   "outputs": [],
   "source": [
    "!ls supplementary/geometry"
   ]
  },
  {
   "cell_type": "code",
   "execution_count": null,
   "metadata": {},
   "outputs": [],
   "source": [
    "!cat supplementary/geometry/frag_0001.xyz"
   ]
  },
  {
   "cell_type": "markdown",
   "metadata": {},
   "source": [
    "Generate representations."
   ]
  },
  {
   "cell_type": "code",
   "execution_count": null,
   "metadata": {},
   "outputs": [],
   "source": [
    "print(\"Loading molecule data...\")\n",
    "N=10\n",
    "mols = []\n",
    "for i in range(1,N+1):\n",
    "    filename=\"supplementary/geometry/frag_%04d.xyz\" % i\n",
    "    coordinates, atoms = read_xyz(filename)\n",
    "    mols.append((coordinates, atoms))\n",
    "\n",
    "size = max(atoms.size for _, atoms in mols) + 1\n",
    "\n",
    "# Generate coulomb matrix representation, sorted by row-norm\n",
    "print(\"Generating representations...\")\n",
    "i=0\n",
    "representations = []\n",
    "for coordinates, nuclear_charges in mols:\n",
    "    representation = generate_coulomb_matrix(\n",
    "        nuclear_charges, coordinates, size=size, sorting=\"row-norm\"\n",
    "    )\n",
    "    representations.append(representation)\n",
    "    print(i)\n",
    "    i = i + 1\n",
    "\n",
    "X = np.asarray([rep for rep in representations])"
   ]
  },
  {
   "cell_type": "code",
   "execution_count": null,
   "metadata": {},
   "outputs": [],
   "source": [
    "X.shape"
   ]
  },
  {
   "cell_type": "markdown",
   "metadata": {},
   "source": [
    "Load outputs."
   ]
  },
  {
   "cell_type": "code",
   "execution_count": null,
   "metadata": {},
   "outputs": [],
   "source": [
    "!head supplementary/E_ccpvdz.txt"
   ]
  },
  {
   "cell_type": "code",
   "execution_count": null,
   "metadata": {},
   "outputs": [],
   "source": [
    "Y=np.loadtxt(\"supplementary/E_ccpvdz.txt\")\n",
    "Y = Y[:10,1]"
   ]
  }
 ],
 "metadata": {
  "deepnote": {},
  "deepnote_execution_queue": [],
  "deepnote_notebook_id": "de759d3f-384e-4796-8c7b-a891385e2084",
  "kernelspec": {
   "display_name": "Python 3 (ipykernel)",
   "language": "python",
   "name": "python3"
  },
  "language_info": {
   "codemirror_mode": {
    "name": "ipython",
    "version": 3
   },
   "file_extension": ".py",
   "mimetype": "text/x-python",
   "name": "python",
   "nbconvert_exporter": "python",
   "pygments_lexer": "ipython3",
   "version": "3.10.16"
  }
 },
 "nbformat": 4,
 "nbformat_minor": 4
}
