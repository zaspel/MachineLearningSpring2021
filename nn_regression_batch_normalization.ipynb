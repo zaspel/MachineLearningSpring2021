{
 "cells": [
  {
   "cell_type": "markdown",
   "metadata": {},
   "source": [
    "Import necessary modules"
   ]
  },
  {
   "cell_type": "code",
   "execution_count": 1,
   "metadata": {},
   "outputs": [],
   "source": [
    "import tensorflow as tf\n",
    "from tensorflow import keras\n",
    "from tensorflow.keras import layers, Model\n",
    "import numpy as np\n",
    "import matplotlib as mpl\n",
    "import matplotlib.pyplot as plt\n",
    "import pandas as pd\n",
    "from sklearn.model_selection import train_test_split\n",
    "from sklearn.preprocessing import StandardScaler"
   ]
  },
  {
   "cell_type": "markdown",
   "metadata": {},
   "source": [
    "Load and prepare energy efficiency data set"
   ]
  },
  {
   "cell_type": "code",
   "execution_count": null,
   "metadata": {},
   "outputs": [],
   "source": [
    "!wget https://archive.ics.uci.edu/ml/machine-learning-databases/00242/ENB2012_data.xlsx\n",
    "\n",
    "data_df = pd.read_excel('ENB2012_data.xlsx')\n",
    "data = np.array(data_df)\n",
    "\n",
    "N = data.shape[0]\n",
    "X = data[:,:8]\n",
    "y = data[:,8]\n",
    "\n",
    "X_train_full, X_test, y_train_full, y_test = train_test_split(X, y, random_state=42)\n",
    "X_train, X_validate, y_train, y_validate = train_test_split(X_train_full, y_train_full, random_state=42)\n",
    "\n",
    "scaler = StandardScaler()\n",
    "X_train = scaler.fit_transform(X_train)\n",
    "X_validate = scaler.transform(X_validate)\n",
    "X_test = scaler.transform(X_test)"
   ]
  },
  {
   "cell_type": "markdown",
   "metadata": {},
   "source": [
    "Construct FFNN model"
   ]
  },
  {
   "cell_type": "code",
   "execution_count": 3,
   "metadata": {},
   "outputs": [
    {
     "name": "stdout",
     "output_type": "stream",
     "text": [
      "Model: \"model\"\n",
      "_________________________________________________________________\n",
      "Layer (type)                 Output Shape              Param #   \n",
      "=================================================================\n",
      "input_1 (InputLayer)         [(None, 8)]               0         \n",
      "_________________________________________________________________\n",
      "dense (Dense)                (None, 30)                270       \n",
      "_________________________________________________________________\n",
      "dense_1 (Dense)              (None, 30)                930       \n",
      "_________________________________________________________________\n",
      "dense_2 (Dense)              (None, 30)                930       \n",
      "_________________________________________________________________\n",
      "dense_3 (Dense)              (None, 30)                930       \n",
      "_________________________________________________________________\n",
      "dense_4 (Dense)              (None, 1)                 31        \n",
      "=================================================================\n",
      "Total params: 3,091\n",
      "Trainable params: 3,091\n",
      "Non-trainable params: 0\n",
      "_________________________________________________________________\n"
     ]
    }
   ],
   "source": [
    "np.random.seed(42)\n",
    "tf.random.set_seed(42)\n",
    "\n",
    "initializer_name = \"glorot_normal\"\n",
    "\n",
    "input_layer1 = layers.Input(shape=(8,))\n",
    "dense_layer1 = layers.Dense(30, activation=\"sigmoid\", kernel_initializer=initializer_name, input_shape=(8,))(input_layer1)\n",
    "dense_layer2 = layers.Dense(30, activation=\"sigmoid\", kernel_initializer=initializer_name)(dense_layer1)\n",
    "dense_layer3 = layers.Dense(30, activation=\"sigmoid\", kernel_initializer=initializer_name)(dense_layer2)\n",
    "dense_layer4 = layers.Dense(30, activation=\"sigmoid\", kernel_initializer=initializer_name)(dense_layer3)\n",
    "output_layer1 = layers.Dense(1, kernel_initializer=initializer_name)(dense_layer4)\n",
    "\n",
    "model = Model(inputs=input_layer1, outputs=output_layer1)\n",
    "model.summary()"
   ]
  },
  {
   "cell_type": "markdown",
   "metadata": {},
   "source": [
    "Configure and run training with batch size $N_b=10$"
   ]
  },
  {
   "cell_type": "code",
   "execution_count": null,
   "metadata": {},
   "outputs": [],
   "source": [
    "model.compile(loss=\"mean_squared_error\", optimizer=keras.optimizers.SGD(lr=1e-3))\n",
    "history = model.fit(X_train, y_train, batch_size=10, epochs=20, validation_data=(X_validate, y_validate))"
   ]
  },
  {
   "cell_type": "markdown",
   "metadata": {},
   "source": [
    "Plot training history"
   ]
  },
  {
   "cell_type": "code",
   "execution_count": 5,
   "metadata": {},
   "outputs": [
    {
     "data": {
      "text/plain": [
       "<Figure size 1800x1200 with 0 Axes>"
      ]
     },
     "metadata": {},
     "output_type": "display_data"
    },
    {
     "data": {
      "image/png": "[encoded data removed]",
      "text/plain": [
       "<Figure size 720x360 with 1 Axes>"
      ]
     },
     "metadata": {
      "needs_background": "light"
     },
     "output_type": "display_data"
    }
   ],
   "source": [
    "plt.figure(dpi=300)\n",
    "pd.DataFrame(history.history).plot(figsize=(10, 5),logy=True)\n",
    "plt.grid(True)\n",
    "plt.show()"
   ]
  },
  {
   "cell_type": "markdown",
   "metadata": {},
   "source": [
    "Build FFNN model with batch normalization layers"
   ]
  },
  {
   "cell_type": "code",
   "execution_count": 6,
   "metadata": {},
   "outputs": [
    {
     "name": "stdout",
     "output_type": "stream",
     "text": [
      "Model: \"model_1\"\n",
      "_________________________________________________________________\n",
      "Layer (type)                 Output Shape              Param #   \n",
      "=================================================================\n",
      "input_2 (InputLayer)         [(None, 8)]               0         \n",
      "_________________________________________________________________\n",
      "batch_normalization_5 (Batch (None, 8)                 32        \n",
      "_________________________________________________________________\n",
      "dense_5 (Dense)              (None, 30)                270       \n",
      "_________________________________________________________________\n",
      "batch_normalization_6 (Batch (None, 30)                120       \n",
      "_________________________________________________________________\n",
      "dense_6 (Dense)              (None, 30)                930       \n",
      "_________________________________________________________________\n",
      "batch_normalization_7 (Batch (None, 30)                120       \n",
      "_________________________________________________________________\n",
      "dense_7 (Dense)              (None, 30)                930       \n",
      "_________________________________________________________________\n",
      "batch_normalization_8 (Batch (None, 30)                120       \n",
      "_________________________________________________________________\n",
      "dense_8 (Dense)              (None, 30)                930       \n",
      "_________________________________________________________________\n",
      "dense_9 (Dense)              (None, 1)                 31        \n",
      "=================================================================\n",
      "Total params: 3,483\n",
      "Trainable params: 3,287\n",
      "Non-trainable params: 196\n",
      "_________________________________________________________________\n"
     ]
    }
   ],
   "source": [
    "np.random.seed(42)\n",
    "tf.random.set_seed(42)\n",
    "\n",
    "initializer_name = \"glorot_normal\"\n",
    "\n",
    "input_layer1 = layers.Input(shape=(8,))\n",
    "batch_layer1 = keras.layers.BatchNormalization()(input_layer1)\n",
    "dense_layer1 = layers.Dense(30, activation=\"sigmoid\", kernel_initializer=initializer_name, input_shape=(8,))(batch_layer1)\n",
    "batch_layer2 = keras.layers.BatchNormalization()(dense_layer1)\n",
    "dense_layer2 = layers.Dense(30, activation=\"sigmoid\", kernel_initializer=initializer_name)(batch_layer2)\n",
    "batch_layer3 = keras.layers.BatchNormalization()(dense_layer2)\n",
    "dense_layer3 = layers.Dense(30, activation=\"sigmoid\", kernel_initializer=initializer_name)(batch_layer3)\n",
    "batch_layer4 = keras.layers.BatchNormalization()(dense_layer3)\n",
    "dense_layer4 = layers.Dense(30, activation=\"sigmoid\", kernel_initializer=initializer_name)(batch_layer4)\n",
    "output_layer1 = layers.Dense(1, kernel_initializer=initializer_name)(dense_layer4)\n",
    "\n",
    "model = Model(inputs=input_layer1, outputs=output_layer1)\n",
    "model.summary()"
   ]
  },
  {
   "cell_type": "markdown",
   "metadata": {},
   "source": [
    "Configure and run training as above"
   ]
  },
  {
   "cell_type": "code",
   "execution_count": null,
   "metadata": {},
   "outputs": [],
   "source": [
    "model.compile(loss=\"mean_squared_error\", optimizer=keras.optimizers.SGD(lr=1e-3))\n",
    "history = model.fit(X_train, y_train, batch_size=10, epochs=20, validation_data=(X_validate, y_validate))"
   ]
  },
  {
   "cell_type": "markdown",
   "metadata": {},
   "source": [
    "Plot (improved) trainin history"
   ]
  },
  {
   "cell_type": "code",
   "execution_count": 8,
   "metadata": {},
   "outputs": [
    {
     "data": {
      "text/plain": [
       "<Figure size 1800x1200 with 0 Axes>"
      ]
     },
     "metadata": {},
     "output_type": "display_data"
    },
    {
     "data": {
      "image/png": "[encoded data removed]",
      "text/plain": [
       "<Figure size 720x360 with 1 Axes>"
      ]
     },
     "metadata": {
      "needs_background": "light"
     },
     "output_type": "display_data"
    }
   ],
   "source": [
    "plt.figure(dpi=300)\n",
    "pd.DataFrame(history.history).plot(figsize=(10, 5),logy=True)\n",
    "plt.grid(True)\n",
    "plt.show()"
   ]
  }
 ],
 "metadata": {
  "kernelspec": {
   "display_name": "Python 3",
   "language": "python",
   "name": "python3"
  },
  "language_info": {
   "codemirror_mode": {
    "name": "ipython",
    "version": 3
   },
   "file_extension": ".py",
   "mimetype": "text/x-python",
   "name": "python",
   "nbconvert_exporter": "python",
   "pygments_lexer": "ipython3",
   "version": "3.7.4"
  }
 },
 "nbformat": 4,
 "nbformat_minor": 2
}
