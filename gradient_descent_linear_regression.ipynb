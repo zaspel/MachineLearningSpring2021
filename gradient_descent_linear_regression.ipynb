{
 "cells": [
  {
   "cell_type": "markdown",
   "metadata": {},
   "source": [
    "Import necessary modules"
   ]
  },
  {
   "cell_type": "code",
   "execution_count": 1,
   "metadata": {
    "scrolled": true
   },
   "outputs": [],
   "source": [
    "import numpy as np\n",
    "import matplotlib.pyplot as plt\n",
    "from sklearn.model_selection import train_test_split\n",
    "from sklearn.preprocessing import StandardScaler\n",
    "from sklearn import linear_model\n",
    "from sklearn import utils\n",
    "from sklearn import metrics\n",
    "import pandas as pd # for loading the Excel data set file"
   ]
  },
  {
   "cell_type": "markdown",
   "metadata": {},
   "source": [
    "Implementation of function that carries out stochastich gradient descent such that it returns the evolution of the functional $J({\\omega})$"
   ]
  },
  {
   "cell_type": "code",
   "execution_count": 2,
   "metadata": {},
   "outputs": [],
   "source": [
    "def stochastic_gradient(X,y,lr):\n",
    "    i=0\n",
    "    n=0\n",
    "    clf = linear_model.SGDRegressor(max_iter = 1000, tol=1e-10,verbose=0,alpha=0,eta0=lr)\n",
    "\n",
    "    J_omegas = []\n",
    "    ns = []\n",
    "\n",
    "    while(1):\n",
    "        clf.partial_fit([X[i,:]],[y[i]])\n",
    "        y_eval = clf.predict(X)\n",
    "        n=n+1\n",
    "        J_omega = X.shape[0]*metrics.mean_squared_error(y_eval,y)\n",
    "        J_omegas.append(J_omega)\n",
    "        ns.append(n)\n",
    "        i=i+1\n",
    "        if (i>=X.shape[0]):\n",
    "            X, y = utils.shuffle(X, y)\n",
    "            i=0\n",
    "        if n>=1000:\n",
    "            break\n",
    "\n",
    "    return J_omegas, ns"
   ]
  },
  {
   "cell_type": "markdown",
   "metadata": {},
   "source": [
    "Implementation of function that carries out mini-batch gradient descent such that it returns the evolution of the functional $J({\\omega})$"
   ]
  },
  {
   "cell_type": "code",
   "execution_count": 3,
   "metadata": {},
   "outputs": [],
   "source": [
    "def minibatch_gradient(X,y,lr):\n",
    "        \n",
    "    N_b = 10  # needs to divide the training set size without remainder\n",
    "    \n",
    "    i=0\n",
    "    n=0\n",
    "    clf = linear_model.SGDRegressor(max_iter = 1000, tol=1e-10,verbose=0,alpha=0,eta0=lr)\n",
    "\n",
    "    J_omegas = []\n",
    "    ns =[]\n",
    "\n",
    "    X_sub = np.array_split(X,N_b)\n",
    "    y_sub = np.array_split(y,N_b)\n",
    "       \n",
    "    while(1):\n",
    "        clf.partial_fit(X_sub[i],y_sub[i])\n",
    "        y_eval = clf.predict(X)\n",
    "        n=n+(X.shape[0]/N_b) \n",
    "        J_omega =X.shape[0]*metrics.mean_squared_error(y_eval,y)\n",
    "        J_omegas.append(J_omega)\n",
    "        ns.append(n)\n",
    "        i=i+1\n",
    "        if (i>=len(X_sub)):\n",
    "            X, y = utils.shuffle(X, y)\n",
    "            X_sub = np.array_split(X,N_b)\n",
    "            y_sub = np.array_split(y,N_b)\n",
    "            i=0\n",
    "        if n>=1000:\n",
    "            break\n",
    "\n",
    "    return J_omegas, ns"
   ]
  },
  {
   "cell_type": "markdown",
   "metadata": {},
   "source": [
    "Implementation of function that carries out batch gradient descent such that it returns the evolution of the functional $J({\\omega})$"
   ]
  },
  {
   "cell_type": "code",
   "execution_count": 4,
   "metadata": {},
   "outputs": [],
   "source": [
    "def batch_gradient(X,y,lr):\n",
    "        \n",
    "    i=0\n",
    "    n=0\n",
    "    clf = linear_model.SGDRegressor(max_iter = 1000, tol=1e-20,verbose=0,alpha=0,eta0=lr)\n",
    "\n",
    "    J_omegas = []\n",
    "    ns =[]\n",
    "\n",
    "    while(1):\n",
    "        clf.partial_fit(X,y)\n",
    "        y_eval = clf.predict(X)\n",
    "        n=n+X.shape[0]\n",
    "        J_omega =X.shape[0]*metrics.mean_squared_error(y_eval,y)\n",
    "        J_omegas.append(J_omega)\n",
    "        ns.append(n)\n",
    "        i=i+1\n",
    "        X, y = utils.shuffle(X, y)\n",
    "        i=0\n",
    "        if n>=1000:\n",
    "            break\n",
    "\n",
    "    return J_omegas, ns"
   ]
  },
  {
   "cell_type": "markdown",
   "metadata": {},
   "source": [
    "Download and load the energy efficiency data set, furthermore scale the inputs"
   ]
  },
  {
   "cell_type": "code",
   "execution_count": 5,
   "metadata": {},
   "outputs": [
    {
     "name": "stdout",
     "output_type": "stream",
     "text": [
      "--2021-02-28 18:42:54--  https://archive.ics.uci.edu/ml/machine-learning-databases/00242/ENB2012_data.xlsx\n",
      "Resolving archive.ics.uci.edu (archive.ics.uci.edu)... 128.195.10.252\n",
      "Connecting to archive.ics.uci.edu (archive.ics.uci.edu)|128.195.10.252|:443... connected.\n",
      "HTTP request sent, awaiting response... 200 OK\n",
      "Length: 76189 (74K) [application/x-httpd-php]\n",
      "Saving to: ‘ENB2012_data.xlsx’\n",
      "\n",
      "ENB2012_data.xlsx   100%[===================>]  74,40K   218KB/s    in 0,3s    \n",
      "\n",
      "2021-02-28 18:42:56 (218 KB/s) - ‘ENB2012_data.xlsx’ saved [76189/76189]\n",
      "\n"
     ]
    }
   ],
   "source": [
    "!wget https://archive.ics.uci.edu/ml/machine-learning-databases/00242/ENB2012_data.xlsx\n",
    "data_set = pd.read_excel('ENB2012_data.xlsx')\n",
    "data_set_np = np.array(data_set)\n",
    "\n",
    "N= 200\n",
    "\n",
    "X = data_set_np[:N,:8]\n",
    "y = data_set_np[:N,8]\n",
    "\n",
    "scaler = StandardScaler()\n",
    "scaler.fit(X)\n",
    "X = scaler.transform(X)"
   ]
  },
  {
   "cell_type": "markdown",
   "metadata": {},
   "source": [
    "Plot magnitude of $J(\\omega)$ during stochastic gradient descent for different learning rates"
   ]
  },
  {
   "cell_type": "code",
   "execution_count": 6,
   "metadata": {},
   "outputs": [
    {
     "data": {
      "image/png": "[encoded data removed]",
      "text/plain": [
       "<Figure size 432x288 with 1 Axes>"
      ]
     },
     "metadata": {
      "needs_background": "light"
     },
     "output_type": "display_data"
    }
   ],
   "source": [
    "plt.figure()\n",
    "\n",
    "errors, ns = stochastic_gradient(X, y,0.002)\n",
    "plt.plot(ns,errors, label=\"$\\eta=0.002$\")\n",
    "\n",
    "errors, ns = stochastic_gradient(X, y,0.01)\n",
    "plt.plot(ns,errors, label=\"$\\eta=0.01$\")\n",
    "\n",
    "errors, ns = stochastic_gradient(X, y,0.05)\n",
    "plt.plot(ns,errors, label=\"$\\eta=0.05$\")\n",
    "\n",
    "plt.xlabel(\"epochs\")\n",
    "plt.ylabel(\"$J(\\omega)$\")\n",
    "plt.xticks(ticks=[])\n",
    "\n",
    "plt.legend()\n",
    "plt.show()"
   ]
  },
  {
   "cell_type": "markdown",
   "metadata": {},
   "source": [
    "Plot magnitude of $J(\\omega)$ during during gradient descent by different methods"
   ]
  },
  {
   "cell_type": "code",
   "execution_count": 7,
   "metadata": {},
   "outputs": [
    {
     "data": {
      "image/png": "[encoded data removed]",
      "text/plain": [
       "<Figure size 432x288 with 1 Axes>"
      ]
     },
     "metadata": {
      "needs_background": "light"
     },
     "output_type": "display_data"
    }
   ],
   "source": [
    "plt.figure()\n",
    "\n",
    "errors, ns = batch_gradient(X, y,0.01)\n",
    "plt.plot(ns,errors, label=\"$\\eta=0.01$, batch GD\")\n",
    "\n",
    "errors, ns = stochastic_gradient(X, y,0.01)\n",
    "plt.plot(ns,errors, label=\"$\\eta=0.01$, stochastic GD\")\n",
    "\n",
    "errors, ns = minibatch_gradient(X, y,0.01)\n",
    "plt.plot(ns,errors, label=\"$\\eta=0.01$, mini-batch GD\")\n",
    "\n",
    "\n",
    "plt.xlabel(\"epochs\")\n",
    "plt.ylabel(\"$J(\\omega)$\")\n",
    "plt.xticks(ticks=[])\n",
    "\n",
    "plt.legend()\n",
    "plt.show()"
   ]
  }
 ],
 "metadata": {
  "kernelspec": {
   "display_name": "Python 3",
   "language": "python",
   "name": "python3"
  },
  "language_info": {
   "codemirror_mode": {
    "name": "ipython",
    "version": 3
   },
   "file_extension": ".py",
   "mimetype": "text/x-python",
   "name": "python",
   "nbconvert_exporter": "python",
   "pygments_lexer": "ipython3",
   "version": "3.7.4"
  }
 },
 "nbformat": 4,
 "nbformat_minor": 2
}
