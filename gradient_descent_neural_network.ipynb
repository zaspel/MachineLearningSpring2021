{
 "cells": [
  {
   "cell_type": "markdown",
   "metadata": {},
   "source": [
    "Import necessary modules"
   ]
  },
  {
   "cell_type": "code",
   "execution_count": 1,
   "metadata": {
    "scrolled": true
   },
   "outputs": [],
   "source": [
    "import numpy as np\n",
    "import matplotlib.pyplot as plt\n",
    "from sklearn.preprocessing import StandardScaler\n",
    "import pandas as pd # for loading the Excel data set file\n",
    "import tensorflow as tf\n",
    "from tensorflow import keras\n",
    "from tensorflow.keras import layers\n",
    "\n",
    "np.random.seed(1)\n",
    "tf.random.set_seed(1)"
   ]
  },
  {
   "cell_type": "markdown",
   "metadata": {},
   "source": [
    "Implementation of a callback function that allows to evaluate the functional $J(\\omega)$ after each update step"
   ]
  },
  {
   "cell_type": "code",
   "execution_count": 2,
   "metadata": {},
   "outputs": [],
   "source": [
    "class BatchHistory(keras.callbacks.Callback):\n",
    "    loss_per_batch = []\n",
    "    def __init__(self):\n",
    "        self.loss_per_batch = []\n",
    "    def on_train_batch_end(self, batch, logs=None):\n",
    "        keys = list(logs.keys())\n",
    "        self.loss_per_batch.append(logs[\"loss\"])"
   ]
  },
  {
   "cell_type": "markdown",
   "metadata": {},
   "source": [
    "Implementation of function that carries out stochastich gradient descent such that it returns the evolution of the functional $J({\\omega})$"
   ]
  },
  {
   "cell_type": "code",
   "execution_count": 3,
   "metadata": {},
   "outputs": [],
   "source": [
    "def stochastic_gradient(X,y,lr):\n",
    "    model = keras.Sequential(\n",
    "        [\n",
    "            layers.Dense(20, activation=\"relu\", name=\"layer1\"),\n",
    "            layers.Dense(10, activation=\"relu\", name=\"layer2\"),\n",
    "            layers.Dense(1, name=\"layer3\"),\n",
    "        ]\n",
    "    )\n",
    "    opt = tf.keras.optimizers.SGD(learning_rate=lr, momentum=0.0)\n",
    "    model.compile(optimizer=opt, loss='mse')\n",
    "    cb = BatchHistory()\n",
    "    model.fit(X, y, batch_size=1, epochs=5, verbose=0,callbacks=[cb])\n",
    "\n",
    "    J_omegas = np.asarray(cb.loss_per_batch)\n",
    "    ns = np.linspace(1,len(cb.loss_per_batch),len(cb.loss_per_batch))\n",
    "    \n",
    "    return J_omegas, ns"
   ]
  },
  {
   "cell_type": "markdown",
   "metadata": {},
   "source": [
    "Implementation of function that carries out mini-batch gradient descent such that it returns the evolution of the functional $J({\\omega})$"
   ]
  },
  {
   "cell_type": "code",
   "execution_count": 4,
   "metadata": {},
   "outputs": [],
   "source": [
    "def minibatch_gradient(X,y,lr):\n",
    "\n",
    "    N_b = 10  # needs to divide the training set size without remainder\n",
    "\n",
    "    model = keras.Sequential(\n",
    "        [\n",
    "            layers.Dense(20, activation=\"relu\", name=\"layer1\"),\n",
    "            layers.Dense(10, activation=\"relu\", name=\"layer2\"),\n",
    "            layers.Dense(1, name=\"layer3\"),\n",
    "        ]\n",
    "    )\n",
    "    opt = tf.keras.optimizers.SGD(learning_rate=lr, momentum=0.0)\n",
    "    model.compile(optimizer=opt, loss='mse')\n",
    "    cb = BatchHistory()\n",
    "    history = model.fit(X, y, batch_size=N_b, epochs=5, verbose=0,callbacks=[cb])\n",
    "\n",
    "    J_omegas = np.asarray(cb.loss_per_batch)\n",
    "    ns = np.linspace(1,len(cb.loss_per_batch),len(cb.loss_per_batch))*N_b\n",
    "    \n",
    "    return J_omegas, ns"
   ]
  },
  {
   "cell_type": "markdown",
   "metadata": {},
   "source": [
    "Implementation of function that carries out batch gradient descent such that it returns the evolution of the functional $J({\\omega})$"
   ]
  },
  {
   "cell_type": "code",
   "execution_count": 5,
   "metadata": {},
   "outputs": [],
   "source": [
    "def batch_gradient(X,y,lr):\n",
    "\n",
    "    N_b = X.shape[0]\n",
    "\n",
    "    model = keras.Sequential(\n",
    "        [\n",
    "            layers.Dense(20, activation=\"relu\", name=\"layer1\"),\n",
    "            layers.Dense(10, activation=\"relu\", name=\"layer2\"),\n",
    "            layers.Dense(1, name=\"layer3\"),\n",
    "        ]\n",
    "    )\n",
    "    opt = tf.keras.optimizers.SGD(learning_rate=lr, momentum=0.0)\n",
    "    model.compile(optimizer=opt, loss='mse')\n",
    "    cb = BatchHistory()\n",
    "    history = model.fit(X, y, batch_size=N_b, epochs=5, verbose=0,callbacks=[cb])\n",
    "\n",
    "    J_omegas = np.asarray(cb.loss_per_batch)\n",
    "    ns = np.linspace(1,len(cb.loss_per_batch),len(cb.loss_per_batch))*N_b\n",
    "    \n",
    "    return J_omegas, ns"
   ]
  },
  {
   "cell_type": "markdown",
   "metadata": {},
   "source": [
    "Download and load the energy efficiency data set, furthermore scale the inputs"
   ]
  },
  {
   "cell_type": "code",
   "execution_count": 6,
   "metadata": {},
   "outputs": [
    {
     "name": "stdout",
     "output_type": "stream",
     "text": [
      "--2023-03-10 16:23:10--  https://archive.ics.uci.edu/ml/machine-learning-databases/00242/ENB2012_data.xlsx\n",
      "Resolving archive.ics.uci.edu (archive.ics.uci.edu)... 128.195.10.252\n",
      "Connecting to archive.ics.uci.edu (archive.ics.uci.edu)|128.195.10.252|:443... connected.\n",
      "HTTP request sent, awaiting response... 200 OK\n",
      "Length: 76189 (74K) [application/x-httpd-php]\n",
      "Saving to: ‘ENB2012_data.xlsx.8’\n",
      "\n",
      "ENB2012_data.xlsx.8 100%[===================>]  74.40K   216KB/s    in 0.3s    \n",
      "\n",
      "2023-03-10 16:23:11 (216 KB/s) - ‘ENB2012_data.xlsx.8’ saved [76189/76189]\n",
      "\n"
     ]
    }
   ],
   "source": [
    "!wget https://archive.ics.uci.edu/ml/machine-learning-databases/00242/ENB2012_data.xlsx\n",
    "data_set = pd.read_excel('ENB2012_data.xlsx')\n",
    "data_set_np = np.array(data_set)\n",
    "\n",
    "N= 200\n",
    "\n",
    "X = data_set_np[:N,:8]\n",
    "y = data_set_np[:N,8]\n",
    "\n",
    "scaler = StandardScaler()\n",
    "scaler.fit(X)\n",
    "X = scaler.transform(X)"
   ]
  },
  {
   "cell_type": "markdown",
   "metadata": {},
   "source": [
    "Plot magnitude of $J(\\omega)$ during stochastic gradient descent for different learning rates"
   ]
  },
  {
   "cell_type": "code",
   "execution_count": 7,
   "metadata": {},
   "outputs": [
    {
     "data": {
      "image/png": "[encoded data removed]",
      "text/plain": [
       "<Figure size 432x288 with 1 Axes>"
      ]
     },
     "metadata": {
      "needs_background": "light"
     },
     "output_type": "display_data"
    }
   ],
   "source": [
    "plt.figure()\n",
    "\n",
    "errors, ns = stochastic_gradient(X, y,0.0001)\n",
    "plt.plot(ns,errors, label=\"$\\eta=0.0001$\")\n",
    "\n",
    "errors, ns = stochastic_gradient(X, y,0.0002)\n",
    "plt.plot(ns,errors, label=\"$\\eta=0.0002$\")\n",
    "\n",
    "errors, ns = stochastic_gradient(X, y,0.0005)\n",
    "plt.plot(ns,errors, label=\"$\\eta=0.0005$\")\n",
    "\n",
    "plt.xlabel(\"epochs\")\n",
    "plt.ylabel(\"$J(\\omega)$\")\n",
    "plt.xticks(ticks=[])\n",
    "\n",
    "plt.legend()\n",
    "plt.show()"
   ]
  },
  {
   "cell_type": "markdown",
   "metadata": {},
   "source": [
    "Plot magnitude of $J(\\omega)$ during during gradient descent by different methods"
   ]
  },
  {
   "cell_type": "code",
   "execution_count": 8,
   "metadata": {},
   "outputs": [
    {
     "data": {
      "image/png": "[encoded data removed]",
      "text/plain": [
       "<Figure size 432x288 with 1 Axes>"
      ]
     },
     "metadata": {
      "needs_background": "light"
     },
     "output_type": "display_data"
    }
   ],
   "source": [
    "plt.figure()\n",
    "\n",
    "errors, ns = batch_gradient(X, y,0.0005)\n",
    "plt.plot(ns,errors, label=\"$\\eta=0.0005$, batch GD\")\n",
    "\n",
    "errors, ns = stochastic_gradient(X, y,0.0005)\n",
    "plt.plot(ns,errors, label=\"$\\eta=0.0005$, stochastic GD\")\n",
    "\n",
    "errors, ns = minibatch_gradient(X, y,0.0005)\n",
    "plt.plot(ns,errors, label=\"$\\eta=0.0005$, mini-batch GD\")\n",
    "\n",
    "\n",
    "plt.xlabel(\"epochs\")\n",
    "plt.ylabel(\"$J(\\omega)$\")\n",
    "plt.xticks(ticks=[])\n",
    "\n",
    "plt.legend()\n",
    "plt.show()"
   ]
  }
 ],
 "metadata": {
  "kernelspec": {
   "display_name": "Python 3",
   "language": "python",
   "name": "python3"
  },
  "language_info": {
   "codemirror_mode": {
    "name": "ipython",
    "version": 3
   },
   "file_extension": ".py",
   "mimetype": "text/x-python",
   "name": "python",
   "nbconvert_exporter": "python",
   "pygments_lexer": "ipython3",
   "version": "3.7.4"
  }
 },
 "nbformat": 4,
 "nbformat_minor": 2
}
