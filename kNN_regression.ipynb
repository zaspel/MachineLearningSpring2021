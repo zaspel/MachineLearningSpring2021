{
 "cells": [
  {
   "cell_type": "markdown",
   "metadata": {
    "cell_id": "00000-f78c4176-6d41-4d8e-b623-451927d02d17",
    "deepnote_cell_type": "markdown",
    "tags": []
   },
   "source": [
    "Load NumPy, Matplotlib and Scikit-learn."
   ]
  },
  {
   "cell_type": "code",
   "execution_count": 1,
   "metadata": {
    "cell_id": "00000-6f3e5e84-0f88-401a-ae30-4b75b905593a",
    "deepnote_cell_type": "code",
    "deepnote_to_be_reexecuted": false,
    "execution_millis": 1573,
    "execution_start": 1613311005701,
    "source_hash": "b74692eb",
    "tags": []
   },
   "outputs": [],
   "source": [
    "import numpy as np\n",
    "import matplotlib.pyplot as plt\n",
    "from sklearn.neighbors import KNeighborsRegressor"
   ]
  },
  {
   "cell_type": "markdown",
   "metadata": {
    "cell_id": "00002-5316e25e-1de2-46d7-9840-fa09841c8deb",
    "deepnote_cell_type": "markdown",
    "tags": []
   },
   "source": [
    "Define training data and neigborhood size."
   ]
  },
  {
   "cell_type": "code",
   "execution_count": 4,
   "metadata": {
    "cell_id": "00001-902c6f67-1f07-45f0-a5a5-ffd924cec8ed",
    "deepnote_cell_type": "code",
    "deepnote_to_be_reexecuted": false,
    "execution_millis": 2,
    "execution_start": 1613311027972,
    "source_hash": "ff9dae94",
    "tags": []
   },
   "outputs": [],
   "source": [
    "X = [[0], [1], [2], [3], [4]]\n",
    "y = [0, 0.3, 0.75, 1, 2]\n",
    "k = 2"
   ]
  },
  {
   "cell_type": "markdown",
   "metadata": {
    "cell_id": "00004-c64a9b1d-f098-4919-93de-9a4f58f32f3f",
    "deepnote_cell_type": "markdown",
    "tags": []
   },
   "source": [
    "Fit the kNN model."
   ]
  },
  {
   "cell_type": "code",
   "execution_count": 5,
   "metadata": {
    "cell_id": "00002-965694a9-8960-4eaf-b385-967d89a253dc",
    "deepnote_cell_type": "code",
    "deepnote_to_be_reexecuted": false,
    "execution_millis": 9,
    "execution_start": 1613311029004,
    "source_hash": "2b1be20b",
    "tags": []
   },
   "outputs": [
    {
     "data": {
      "text/plain": [
       "KNeighborsRegressor(n_neighbors=2)"
      ]
     },
     "execution_count": 5,
     "metadata": {},
     "output_type": "execute_result"
    }
   ],
   "source": [
    "neigh = KNeighborsRegressor(n_neighbors=k)\n",
    "neigh.fit(X, y)"
   ]
  },
  {
   "cell_type": "markdown",
   "metadata": {
    "cell_id": "00006-d937f970-d833-4118-92d6-f59ba66dd55d",
    "deepnote_cell_type": "markdown",
    "tags": []
   },
   "source": [
    "Evaluate and plot predictor."
   ]
  },
  {
   "cell_type": "code",
   "execution_count": 6,
   "metadata": {
    "cell_id": "00003-e2526324-7b11-4d7b-b340-e6e5ced84c18",
    "deepnote_cell_type": "code",
    "deepnote_to_be_reexecuted": false,
    "execution_millis": 185,
    "execution_start": 1613311030615,
    "source_hash": "6e21faf0",
    "tags": []
   },
   "outputs": [
    {
     "data": {
      "image/png": "[encoded data removed]",
      "text/plain": [
       "<Figure size 432x288 with 1 Axes>"
      ]
     },
     "metadata": {
      "needs_background": "light"
     },
     "output_type": "display_data"
    }
   ],
   "source": [
    "X_eval = np.linspace(0,4,1000)\n",
    "X_eval = X_eval.reshape(-1,1)\n",
    "\n",
    "plt.figure()\n",
    "plt.plot(X_eval,neigh.predict(X_eval), label=\"kNN regression predictor\")\n",
    "plt.plot(X,y, 'rs', markersize=12, label=\"trainin set\")\n",
    "plt.title(\"Simplistic test of kNN regression\")\n",
    "plt.show()"
   ]
  }
 ],
 "metadata": {
  "deepnote": {},
  "deepnote_execution_queue": [],
  "deepnote_notebook_id": "de759d3f-384e-4796-8c7b-a891385e2084",
  "kernelspec": {
   "display_name": "Python 3",
   "language": "python",
   "name": "python3"
  },
  "language_info": {
   "codemirror_mode": {
    "name": "ipython",
    "version": 3
   },
   "file_extension": ".py",
   "mimetype": "text/x-python",
   "name": "python",
   "nbconvert_exporter": "python",
   "pygments_lexer": "ipython3",
   "version": "3.7.4"
  }
 },
 "nbformat": 4,
 "nbformat_minor": 2
}
